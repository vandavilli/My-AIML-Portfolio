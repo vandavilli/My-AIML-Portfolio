{
 "cells": [
  {
   "cell_type": "code",
   "execution_count": 1,
   "id": "c92a189d",
   "metadata": {},
   "outputs": [],
   "source": [
    "import pandas as pd\n",
    "from gensim.models import KeyedVectors"
   ]
  },
  {
   "cell_type": "code",
   "execution_count": 2,
   "id": "03f8972f",
   "metadata": {},
   "outputs": [],
   "source": [
    "def process_load_data(dataframes):\n",
    "    data = pd.concat(dataframes, ignore_index=True)\n",
    "\n",
    "    # Select columns to be retained and rename them\n",
    "    selected_columns = [\n",
    "        'id',\n",
    "        'context',\n",
    "        'annotations/0/events/0/event_type',\n",
    "        'annotations/0/events/0/Trigger/text/0/0',\n",
    "        'annotations/0/events/0/Treatment/Drug/text/0/0',\n",
    "        'annotations/0/events/0/Effect/text/0/0'\n",
    "    ]\n",
    "    new_names = ['id', 'context', 'event_type', 'trigger_text', 'drug', 'drug_effect']\n",
    "    df = data[selected_columns].rename(columns=dict(zip(selected_columns, new_names)))\n",
    "\n",
    "    # Map sentiment labels to numeric values\n",
    "    sentiment_mapping = {'Adverse_event': 1, 'Potential_therapeutic_event': 0}\n",
    "    df['sentiment'] = df['event_type'].map(sentiment_mapping)\n",
    "\n",
    "    return df"
   ]
  },
  {
   "cell_type": "code",
   "execution_count": 3,
   "id": "c8a50a4d",
   "metadata": {},
   "outputs": [],
   "source": [
    "def evaluate_model(y_true, y_pred, y_prob):\n",
    "    # Compute metrics\n",
    "    accuracy = accuracy_score(y_true, y_pred)\n",
    "    precision = precision_score(y_true, y_pred)\n",
    "    recall = recall_score(y_true, y_pred)\n",
    "    f1 = f1_score(y_true, y_pred)\n",
    "    auc_roc = roc_auc_score(y_true, y_prob)\n",
    "\n",
    "    # Print metrics\n",
    "    print(f'Accuracy: {accuracy:.2f}')\n",
    "    print(f'Precision: {precision:.2f}')\n",
    "    print(f'Recall: {recall:.2f}')\n",
    "    print(f'F1 score: {f1:.2f}')\n",
    "    print(f'ROC AUC score: {auc_roc:.2f}')\n",
    "\n",
    "    # Compute confusion matrix\n",
    "    cm = confusion_matrix(y_true, y_pred)\n",
    "    print(\"Confusion Matrix: \")\n",
    "    print(cm)"
   ]
  },
  {
   "cell_type": "code",
   "execution_count": 4,
   "id": "ac9ca1b3",
   "metadata": {},
   "outputs": [],
   "source": [
    "def load_wordvec_model(model_path: str, binary: bool = True, limit: int = 100000):\n",
    "    model = KeyedVectors.load_word2vec_format(model_path, binary=binary, limit=limit)\n",
    "    return model"
   ]
  },
  {
   "cell_type": "code",
   "execution_count": null,
   "id": "d718b30e",
   "metadata": {},
   "outputs": [],
   "source": []
  }
 ],
 "metadata": {
  "kernelspec": {
   "display_name": "Python 3",
   "language": "python",
   "name": "python3"
  },
  "language_info": {
   "codemirror_mode": {
    "name": "ipython",
    "version": 3
   },
   "file_extension": ".py",
   "mimetype": "text/x-python",
   "name": "python",
   "nbconvert_exporter": "python",
   "pygments_lexer": "ipython3",
   "version": "3.9.13"
  }
 },
 "nbformat": 4,
 "nbformat_minor": 5
}

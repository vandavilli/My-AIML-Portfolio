{
 "cells": [
  {
   "cell_type": "code",
   "execution_count": 34,
   "id": "345877ba",
   "metadata": {},
   "outputs": [],
   "source": [
    "import pandas as pd\n",
    "import numpy as np\n",
    "import matplotlib.pyplot as plt\n",
    "import plotly.graph_objects as go\n",
    "import plotly.express as px\n",
    "import seaborn as sns\n",
    " \n",
    "from sklearn.feature_extraction.text import CountVectorizer, TfidfVectorizer\n",
    "from gensim.models import Word2Vec, Doc2Vec, KeyedVectors\n",
    "from gensim.models.doc2vec import TaggedDocument\n",
    "from sklearn.model_selection import train_test_split\n",
    "from sklearn.preprocessing import MinMaxScaler, FunctionTransformer\n",
    "from sklearn.metrics import accuracy_score, precision_score, recall_score, f1_score, roc_auc_score, confusion_matrix, roc_curve, roc_auc_score\n",
    "from sklearn.pipeline import Pipeline\n",
    "from sklearn.naive_bayes import MultinomialNB\n",
    "from sklearn.model_selection import GridSearchCV, cross_val_score\n",
    "from imblearn.over_sampling import SMOTE\n",
    "from collections import Counter"
   ]
  },
  {
   "cell_type": "code",
   "execution_count": 15,
   "id": "20cde3d4",
   "metadata": {},
   "outputs": [],
   "source": [
    "%run common_functions.ipynb"
   ]
  },
  {
   "cell_type": "code",
   "execution_count": 16,
   "id": "adab68b1",
   "metadata": {},
   "outputs": [
    {
     "name": "stderr",
     "output_type": "stream",
     "text": [
      "/var/folders/6t/t1pgd71d3296txhmwy6fg76r0000gn/T/ipykernel_10397/1751424980.py:1: DtypeWarning: Columns (112,114,121,125,157,168,186,188,206,208,217,229,231,232,233,235,237,241,244,246,247,249,250,251,268,270,271,280,282,286,288,289,291,305,310,312,313,315,316,318,319,323,324,327,328,329,331,333,335,336,338,342,344,348,350,352,353,355,356,358,359,361) have mixed types. Specify dtype option on import or set low_memory=False.\n",
      "  train_data = pd.read_csv('data/train.csv')\n"
     ]
    }
   ],
   "source": [
    "train_data = pd.read_csv('data/train.csv')\n",
    "test_data = pd.read_csv('data/test.csv')\n",
    "\n",
    "dataframes = [train_data, test_data]\n",
    "df = process_load_data(dataframes)"
   ]
  },
  {
   "cell_type": "code",
   "execution_count": 17,
   "id": "aae9cf59",
   "metadata": {},
   "outputs": [
    {
     "data": {
      "text/html": [
       "<div>\n",
       "<style scoped>\n",
       "    .dataframe tbody tr th:only-of-type {\n",
       "        vertical-align: middle;\n",
       "    }\n",
       "\n",
       "    .dataframe tbody tr th {\n",
       "        vertical-align: top;\n",
       "    }\n",
       "\n",
       "    .dataframe thead th {\n",
       "        text-align: right;\n",
       "    }\n",
       "</style>\n",
       "<table border=\"1\" class=\"dataframe\">\n",
       "  <thead>\n",
       "    <tr style=\"text-align: right;\">\n",
       "      <th></th>\n",
       "      <th>id</th>\n",
       "      <th>context</th>\n",
       "      <th>event_type</th>\n",
       "      <th>trigger_text</th>\n",
       "      <th>drug</th>\n",
       "      <th>drug_effect</th>\n",
       "      <th>sentiment</th>\n",
       "    </tr>\n",
       "  </thead>\n",
       "  <tbody>\n",
       "    <tr>\n",
       "      <th>623</th>\n",
       "      <td>7351000_4</td>\n",
       "      <td>The probability of developing acute leukemia i...</td>\n",
       "      <td>Adverse_event</td>\n",
       "      <td>developing</td>\n",
       "      <td>Treosulfan</td>\n",
       "      <td>acute leukemia</td>\n",
       "      <td>1</td>\n",
       "    </tr>\n",
       "    <tr>\n",
       "      <th>2187</th>\n",
       "      <td>12796597_1</td>\n",
       "      <td>Chronic myelogenous leukemia (CML), hepatitis ...</td>\n",
       "      <td>Adverse_event</td>\n",
       "      <td>associated</td>\n",
       "      <td>interferon alpha</td>\n",
       "      <td>renal dysfunction</td>\n",
       "      <td>1</td>\n",
       "    </tr>\n",
       "    <tr>\n",
       "      <th>2734</th>\n",
       "      <td>11889149_14</td>\n",
       "      <td>RLX+ALN reduced bone turnover more than either...</td>\n",
       "      <td>Potential_therapeutic_event</td>\n",
       "      <td>reduced</td>\n",
       "      <td>RLX</td>\n",
       "      <td>bone turnover more than either drug alone, res...</td>\n",
       "      <td>0</td>\n",
       "    </tr>\n",
       "    <tr>\n",
       "      <th>2547</th>\n",
       "      <td>16298824_2</td>\n",
       "      <td>ARDS has been associated with the administrati...</td>\n",
       "      <td>Adverse_event</td>\n",
       "      <td>associated</td>\n",
       "      <td>infliximab</td>\n",
       "      <td>ARDS</td>\n",
       "      <td>1</td>\n",
       "    </tr>\n",
       "    <tr>\n",
       "      <th>3264</th>\n",
       "      <td>11283125_2</td>\n",
       "      <td>The European Organization for Research and Tre...</td>\n",
       "      <td>Potential_therapeutic_event</td>\n",
       "      <td>to</td>\n",
       "      <td>cytarabine</td>\n",
       "      <td>reduce the incidence of CNS and systemic relapses</td>\n",
       "      <td>0</td>\n",
       "    </tr>\n",
       "  </tbody>\n",
       "</table>\n",
       "</div>"
      ],
      "text/plain": [
       "               id                                            context  \\\n",
       "623     7351000_4  The probability of developing acute leukemia i...   \n",
       "2187   12796597_1  Chronic myelogenous leukemia (CML), hepatitis ...   \n",
       "2734  11889149_14  RLX+ALN reduced bone turnover more than either...   \n",
       "2547   16298824_2  ARDS has been associated with the administrati...   \n",
       "3264   11283125_2  The European Organization for Research and Tre...   \n",
       "\n",
       "                       event_type trigger_text              drug  \\\n",
       "623                 Adverse_event   developing        Treosulfan   \n",
       "2187                Adverse_event   associated  interferon alpha   \n",
       "2734  Potential_therapeutic_event      reduced               RLX   \n",
       "2547                Adverse_event   associated        infliximab   \n",
       "3264  Potential_therapeutic_event           to        cytarabine   \n",
       "\n",
       "                                            drug_effect  sentiment  \n",
       "623                                      acute leukemia          1  \n",
       "2187                                  renal dysfunction          1  \n",
       "2734  bone turnover more than either drug alone, res...          0  \n",
       "2547                                               ARDS          1  \n",
       "3264  reduce the incidence of CNS and systemic relapses          0  "
      ]
     },
     "execution_count": 17,
     "metadata": {},
     "output_type": "execute_result"
    }
   ],
   "source": [
    "df.sample(5)"
   ]
  },
  {
   "cell_type": "markdown",
   "id": "dbc59e31",
   "metadata": {},
   "source": [
    "#### Load pre-trained word vectors from a binary file located at the specified path. The file contains word vectors in a format compatible with Word2Vec. Only the first 100,000 word vectors are loaded ( due to memory constraints )"
   ]
  },
  {
   "cell_type": "code",
   "execution_count": 18,
   "id": "d17dead0",
   "metadata": {},
   "outputs": [],
   "source": [
    "model_path = './biowordvec/BioWordVec_PubMed_MIMICIII_d200.vec.bin'\n",
    "model = KeyedVectors.load_word2vec_format(model_path, binary=True, limit=100000)"
   ]
  },
  {
   "cell_type": "code",
   "execution_count": 19,
   "id": "4f83a5d7",
   "metadata": {},
   "outputs": [],
   "source": [
    "def average_word_embeddings(df, column, word_embeddings):\n",
    "    embeddings = []\n",
    "    for document in df[column]:\n",
    "        for word in document.split():\n",
    "            if word in word_embeddings:\n",
    "                embeddings.append(word_embeddings[word])\n",
    "    if len(embeddings) > 0:\n",
    "        return np.mean(embeddings, axis=0)\n",
    "    else:\n",
    "        return np.zeros_like(word_embeddings.vector_size)"
   ]
  },
  {
   "cell_type": "code",
   "execution_count": 20,
   "id": "cc5febe9",
   "metadata": {},
   "outputs": [],
   "source": [
    "df['average_embeddings'] = df.apply(lambda row: average_word_embeddings(row, 'context', model), axis=1)"
   ]
  },
  {
   "cell_type": "code",
   "execution_count": 21,
   "id": "eb3028d5",
   "metadata": {},
   "outputs": [
    {
     "data": {
      "text/html": [
       "<div>\n",
       "<style scoped>\n",
       "    .dataframe tbody tr th:only-of-type {\n",
       "        vertical-align: middle;\n",
       "    }\n",
       "\n",
       "    .dataframe tbody tr th {\n",
       "        vertical-align: top;\n",
       "    }\n",
       "\n",
       "    .dataframe thead th {\n",
       "        text-align: right;\n",
       "    }\n",
       "</style>\n",
       "<table border=\"1\" class=\"dataframe\">\n",
       "  <thead>\n",
       "    <tr style=\"text-align: right;\">\n",
       "      <th></th>\n",
       "      <th>id</th>\n",
       "      <th>context</th>\n",
       "      <th>event_type</th>\n",
       "      <th>trigger_text</th>\n",
       "      <th>drug</th>\n",
       "      <th>drug_effect</th>\n",
       "      <th>sentiment</th>\n",
       "      <th>average_embeddings</th>\n",
       "    </tr>\n",
       "  </thead>\n",
       "  <tbody>\n",
       "    <tr>\n",
       "      <th>2393</th>\n",
       "      <td>18176653_3</td>\n",
       "      <td>BACKGROUND: NVP is a non-nucleoside reverse tr...</td>\n",
       "      <td>Potential_therapeutic_event</td>\n",
       "      <td>used</td>\n",
       "      <td>NVP</td>\n",
       "      <td>NaN</td>\n",
       "      <td>0</td>\n",
       "      <td>[0.24499857, 0.15651116, 0.1861276, -0.0040484...</td>\n",
       "    </tr>\n",
       "    <tr>\n",
       "      <th>2440</th>\n",
       "      <td>4054170_1</td>\n",
       "      <td>According to the literature, chlorambucil cent...</td>\n",
       "      <td>Adverse_event</td>\n",
       "      <td>found</td>\n",
       "      <td>chlorambucil</td>\n",
       "      <td>central nervous toxicity</td>\n",
       "      <td>1</td>\n",
       "      <td>[0.2999863, 0.16053475, 0.15009248, 0.00864408...</td>\n",
       "    </tr>\n",
       "    <tr>\n",
       "      <th>3159</th>\n",
       "      <td>17665812_1</td>\n",
       "      <td>Clozapine-induced eosinophilia and switch to q...</td>\n",
       "      <td>Adverse_event</td>\n",
       "      <td>induced</td>\n",
       "      <td>Clozapine</td>\n",
       "      <td>eosinophilia</td>\n",
       "      <td>1</td>\n",
       "      <td>[0.24074148, 0.10408728, 0.15577291, -0.020524...</td>\n",
       "    </tr>\n",
       "    <tr>\n",
       "      <th>3342</th>\n",
       "      <td>440873_1</td>\n",
       "      <td>Dystonia associated with carbamazepine adminis...</td>\n",
       "      <td>Adverse_event</td>\n",
       "      <td>associated with</td>\n",
       "      <td>carbamazepine</td>\n",
       "      <td>Dystonia</td>\n",
       "      <td>1</td>\n",
       "      <td>[0.17526342, 0.1237551, 0.13423571, -0.0202300...</td>\n",
       "    </tr>\n",
       "    <tr>\n",
       "      <th>191</th>\n",
       "      <td>11706664_1</td>\n",
       "      <td>Acute asymptomatic hepatitis in a healthy norm...</td>\n",
       "      <td>Adverse_event</td>\n",
       "      <td>exposed</td>\n",
       "      <td>amodiaquine</td>\n",
       "      <td>Acute asymptomatic hepatitis</td>\n",
       "      <td>1</td>\n",
       "      <td>[0.27926138, 0.184292, 0.15603347, 0.035082407...</td>\n",
       "    </tr>\n",
       "  </tbody>\n",
       "</table>\n",
       "</div>"
      ],
      "text/plain": [
       "              id                                            context  \\\n",
       "2393  18176653_3  BACKGROUND: NVP is a non-nucleoside reverse tr...   \n",
       "2440   4054170_1  According to the literature, chlorambucil cent...   \n",
       "3159  17665812_1  Clozapine-induced eosinophilia and switch to q...   \n",
       "3342    440873_1  Dystonia associated with carbamazepine adminis...   \n",
       "191   11706664_1  Acute asymptomatic hepatitis in a healthy norm...   \n",
       "\n",
       "                       event_type     trigger_text           drug  \\\n",
       "2393  Potential_therapeutic_event             used            NVP   \n",
       "2440                Adverse_event            found   chlorambucil   \n",
       "3159                Adverse_event          induced      Clozapine   \n",
       "3342                Adverse_event  associated with  carbamazepine   \n",
       "191                 Adverse_event          exposed    amodiaquine   \n",
       "\n",
       "                       drug_effect  sentiment  \\\n",
       "2393                           NaN          0   \n",
       "2440      central nervous toxicity          1   \n",
       "3159                  eosinophilia          1   \n",
       "3342                      Dystonia          1   \n",
       "191   Acute asymptomatic hepatitis          1   \n",
       "\n",
       "                                     average_embeddings  \n",
       "2393  [0.24499857, 0.15651116, 0.1861276, -0.0040484...  \n",
       "2440  [0.2999863, 0.16053475, 0.15009248, 0.00864408...  \n",
       "3159  [0.24074148, 0.10408728, 0.15577291, -0.020524...  \n",
       "3342  [0.17526342, 0.1237551, 0.13423571, -0.0202300...  \n",
       "191   [0.27926138, 0.184292, 0.15603347, 0.035082407...  "
      ]
     },
     "execution_count": 21,
     "metadata": {},
     "output_type": "execute_result"
    }
   ],
   "source": [
    "df.sample(5)"
   ]
  },
  {
   "cell_type": "markdown",
   "id": "cc94e993",
   "metadata": {},
   "source": [
    "## Using MultinomialNB on a un-balanced dataset."
   ]
  },
  {
   "cell_type": "code",
   "execution_count": 22,
   "id": "709adf3c",
   "metadata": {},
   "outputs": [
    {
     "name": "stdout",
     "output_type": "stream",
     "text": [
      "CV scores: [0.9095315  0.9095315  0.90938511 0.90938511 0.91100324]\n",
      "Mean CV score: 0.9097672935259394\n",
      "Confusion Matrix:\n",
      "[[  1  69]\n",
      " [  7 697]]\n"
     ]
    }
   ],
   "source": [
    "X_train, X_test, y_train, y_test = train_test_split(df.drop('sentiment', axis=1),\n",
    "                                                    df['sentiment'], test_size=0.2, random_state=42)\n",
    "\n",
    "scaler = MinMaxScaler(feature_range=(0, 1))\n",
    "\n",
    "X_train_embeddings = np.array(X_train['average_embeddings'].tolist())\n",
    "X_test_embeddings = np.array(X_test['average_embeddings'].tolist())\n",
    "\n",
    "X_train_scaled = scaler.fit_transform(X_train_embeddings)\n",
    "X_test_scaled = scaler.transform(X_test_embeddings)\n",
    "\n",
    "pipeline = Pipeline([\n",
    "    ('scaler', MinMaxScaler(feature_range=(0, 1))),\n",
    "    ('classifier', MultinomialNB())\n",
    "])\n",
    "\n",
    "param_grid = {\n",
    "    'classifier__alpha': [0.1, 1.0, 10.0],\n",
    "}\n",
    "\n",
    "grid_search = GridSearchCV(pipeline, param_grid, cv=5)\n",
    "grid_search.fit(X_train_embeddings, y_train)\n",
    "\n",
    "best_unbalanced_model = grid_search.best_estimator_\n",
    "\n",
    "cv_scores = cross_val_score(best_unbalanced_model, X_train_scaled, y_train, cv=5)\n",
    "print(\"CV scores:\", cv_scores)\n",
    "print(\"Mean CV score:\", cv_scores.mean())\n",
    "\n",
    "y_pred = best_unbalanced_model.predict(X_test_scaled)\n",
    "\n",
    "cm = confusion_matrix(y_test, y_pred)\n",
    "print(\"Confusion Matrix:\")\n",
    "print(cm)"
   ]
  },
  {
   "cell_type": "code",
   "execution_count": 23,
   "id": "37577a7c",
   "metadata": {},
   "outputs": [
    {
     "data": {
      "image/png": "[encoded data removed]",
      "text/plain": [
       "<Figure size 1000x700 with 2 Axes>"
      ]
     },
     "metadata": {},
     "output_type": "display_data"
    }
   ],
   "source": [
    "plt.figure(figsize=(10,7))\n",
    "sns.heatmap(cm, annot=True, cmap='Blues', fmt='g')\n",
    "plt.xlabel('Predicted')\n",
    "plt.ylabel('Actual')\n",
    "plt.show()"
   ]
  },
  {
   "cell_type": "markdown",
   "id": "689f2250",
   "metadata": {},
   "source": [
    "## Let's now predict using MultinomialNB - Before Balancing!!!"
   ]
  },
  {
   "cell_type": "code",
   "execution_count": 24,
   "id": "8a3aa175",
   "metadata": {},
   "outputs": [
    {
     "name": "stdout",
     "output_type": "stream",
     "text": [
      "Accuracy: 0.90\n",
      "Precision: 0.91\n",
      "Recall: 0.99\n",
      "F1 score: 0.95\n",
      "ROC AUC score: 0.61\n",
      "Confusion Matrix: \n",
      "[[  1  69]\n",
      " [  7 697]]\n"
     ]
    }
   ],
   "source": [
    "y_prob = best_unbalanced_model.predict_proba(X_test_scaled)[:,1]\n",
    "evaluate_model(y_test, y_pred, y_prob)"
   ]
  },
  {
   "cell_type": "code",
   "execution_count": 25,
   "id": "cc58cdaa",
   "metadata": {},
   "outputs": [
    {
     "name": "stdout",
     "output_type": "stream",
     "text": [
      "Accuracy percentage (for unbalanced): 90.18087855297158\n"
     ]
    }
   ],
   "source": [
    "correct_predictions = sum(y_test == y_pred)\n",
    "total_predictions = len(y_test)\n",
    "accuracy_percentage = (correct_predictions / total_predictions) * 100\n",
    "print(\"Accuracy percentage (for unbalanced):\", accuracy_percentage)"
   ]
  },
  {
   "cell_type": "markdown",
   "id": "8ab3fe7c",
   "metadata": {},
   "source": [
    "## Conclusion for MultinomialNB on a un-balanced dataset.\n",
    "\n",
    "**Cross-Validation Scores:**\n",
    "\n",
    "The scores range from around 0.909 to 0.911, with a mean of approximately 0.910. This implies that, on average, the model is correctly predicting the sentiment of about 91% of the text in the dataset, when tested on 5 different splits.\n",
    "\n",
    "While generally a good performance, in a healthcare practice where making a wrong prediction could have serious consequences, we might need an even higher accuracy.\n",
    "\n",
    "\n",
    "**Confusion Matrix:**\n",
    "\n",
    "- The top left cell (1) represents \"True Positives\" - these are the instances that were positive (PTE class) and were correctly identified as positive by the model.\n",
    "\n",
    "- The top right cell (69) represents \"False Negatives\" - these are the instances that were positive (PTE class), but were incorrectly identified as negative (ADE class) by the model.\n",
    "\n",
    "- The bottom left cell (7) represents \"False Positives\" - these are the instances that were negative (ADE class), but were incorrectly identified as positive (PTE class) by the model.\n",
    "\n",
    "- The bottom right cell (697) represents \"True Negatives\" - these are the instances that were negative (ADE class) and were correctly identified as negative by the model.\n",
    "\n",
    "From these numbers, it is clear that the model excels at identifying the negative class (ADE), with 697 correct predictions and only 7 incorrect ones. However, the model struggles with the positive class (PTE), correctly identifying only 1 instance and incorrectly classifying 69. These results can be explained because of the dataset has not been balanced and has a lot of negative signal due to a disprotionately high number of ADE sentiments. \n",
    "\n",
    "This suggests that the model could be improved by collecting more data for the positive class (PTE), or by using techniques to better handle imbalanced data if the PTE class is underrepresented in your dataset.\n",
    "\n",
    "The model currently excels at identifying negative sentiments (ADE class) but is having some difficulty correctly identifying positive sentiments (PTE class). The model's ability to correctly identify positive sentiments might potentially be improved by collecting more data about positive sentiments or by adjusting the model to better handle class imbalances. Despite this, the model is still correctly identifying the sentiment about 91% of the time across different tests, which is a strong result."
   ]
  },
  {
   "cell_type": "markdown",
   "id": "6523534f",
   "metadata": {},
   "source": [
    "## Address class imbalance to improve MultinomialNB performance."
   ]
  },
  {
   "cell_type": "code",
   "execution_count": 26,
   "id": "e53f1c65",
   "metadata": {},
   "outputs": [
    {
     "name": "stdout",
     "output_type": "stream",
     "text": [
      "Before oversampling:  Counter({1: 3517, 0: 349})\n",
      "After oversampling:  Counter({1: 3517, 0: 3517})\n",
      "CV scores (balanced): [0.6297086  0.61478323 0.6297086  0.61407249 0.61308677]\n",
      "Mean CV score (balanced): 0.62027193841805\n",
      "Confusion Matrix:\n",
      "[[504 181]\n",
      " [309 413]]\n"
     ]
    }
   ],
   "source": [
    "X = np.array(df['average_embeddings'].tolist())\n",
    "y = df['sentiment']\n",
    "\n",
    "print(\"Before oversampling: \", Counter(y))\n",
    "\n",
    "oversample = SMOTE()\n",
    "X_over, y_over = oversample.fit_resample(X, y)\n",
    "\n",
    "print(\"After oversampling: \", Counter(y_over))\n",
    "\n",
    "X_train_over, X_test_over, y_train_over, y_test_over = train_test_split(X_over, y_over, test_size=0.2, random_state=42)\n",
    "\n",
    "# Scale the data\n",
    "scaler = MinMaxScaler(feature_range=(0, 1))\n",
    "X_train_over = scaler.fit_transform(X_train_over)\n",
    "X_test_over = scaler.transform(X_test_over)\n",
    "\n",
    "# And retrain model (from above ) on the balanced dataset\n",
    "grid_search.fit(X_train_over, y_train_over)\n",
    "\n",
    "best_balanced_model = grid_search.best_estimator_\n",
    "\n",
    "cv_scores = cross_val_score(best_balanced_model, X_over, y_over, cv=5)\n",
    "print(\"CV scores (balanced):\", cv_scores)\n",
    "print(\"Mean CV score (balanced):\", np.mean(cv_scores))\n",
    "\n",
    "# Generate predictions on the test set\n",
    "y_pred_over = best_balanced_model.predict(X_test_over)\n",
    "\n",
    "conf_mat = confusion_matrix(y_test_over, y_pred_over)\n",
    "print(\"Confusion Matrix:\")\n",
    "print(conf_mat)\n"
   ]
  },
  {
   "cell_type": "code",
   "execution_count": 27,
   "id": "366790d9",
   "metadata": {},
   "outputs": [
    {
     "data": {
      "image/png": "[encoded data removed]",
      "text/plain": [
       "<Figure size 1000x700 with 2 Axes>"
      ]
     },
     "metadata": {},
     "output_type": "display_data"
    }
   ],
   "source": [
    "plt.figure(figsize=(10,7))\n",
    "sns.heatmap(conf_mat, annot=True, cmap='Blues', fmt='g')\n",
    "plt.xlabel('Predicted')\n",
    "plt.ylabel('Actual')\n",
    "plt.show()"
   ]
  },
  {
   "cell_type": "markdown",
   "id": "c62a0fd8",
   "metadata": {},
   "source": [
    "## Let's now predict using MultinomialNB - After Balancing!!!"
   ]
  },
  {
   "cell_type": "code",
   "execution_count": 28,
   "id": "989452ea",
   "metadata": {},
   "outputs": [],
   "source": [
    "dev_data = pd.read_csv('data/dev.csv')\n",
    "dataframes = [dev_data]\n",
    "dev_df = process_load_data(dataframes)\n",
    "dev_df['average_embeddings'] = dev_df.apply(lambda row: average_word_embeddings(row, 'context', model), axis=1)"
   ]
  },
  {
   "cell_type": "code",
   "execution_count": 29,
   "id": "438c6ab9",
   "metadata": {},
   "outputs": [
    {
     "data": {
      "text/html": [
       "<div>\n",
       "<style scoped>\n",
       "    .dataframe tbody tr th:only-of-type {\n",
       "        vertical-align: middle;\n",
       "    }\n",
       "\n",
       "    .dataframe tbody tr th {\n",
       "        vertical-align: top;\n",
       "    }\n",
       "\n",
       "    .dataframe thead th {\n",
       "        text-align: right;\n",
       "    }\n",
       "</style>\n",
       "<table border=\"1\" class=\"dataframe\">\n",
       "  <thead>\n",
       "    <tr style=\"text-align: right;\">\n",
       "      <th></th>\n",
       "      <th>id</th>\n",
       "      <th>context</th>\n",
       "      <th>event_type</th>\n",
       "      <th>trigger_text</th>\n",
       "      <th>drug</th>\n",
       "      <th>drug_effect</th>\n",
       "      <th>sentiment</th>\n",
       "      <th>average_embeddings</th>\n",
       "    </tr>\n",
       "  </thead>\n",
       "  <tbody>\n",
       "    <tr>\n",
       "      <th>473</th>\n",
       "      <td>15965422_3</td>\n",
       "      <td>We report 5 patients (3 patients with chronic ...</td>\n",
       "      <td>Adverse_event</td>\n",
       "      <td>developed</td>\n",
       "      <td>pegylated interferon alfa-2b</td>\n",
       "      <td>local cutaneous reactions at sites of injection</td>\n",
       "      <td>1</td>\n",
       "      <td>[0.2544527, 0.19354717, 0.14985567, 0.04721336...</td>\n",
       "    </tr>\n",
       "    <tr>\n",
       "      <th>842</th>\n",
       "      <td>19448237_1</td>\n",
       "      <td>Polymyoclonus seizure resulting from accidenta...</td>\n",
       "      <td>Adverse_event</td>\n",
       "      <td>resulting</td>\n",
       "      <td>tranexamic acid</td>\n",
       "      <td>Polymyoclonus seizure</td>\n",
       "      <td>1</td>\n",
       "      <td>[0.24896334, 0.13466005, 0.19157723, -0.046153...</td>\n",
       "    </tr>\n",
       "    <tr>\n",
       "      <th>702</th>\n",
       "      <td>19058340_1</td>\n",
       "      <td>A 52 year-old male patient diagnosed of ankylo...</td>\n",
       "      <td>Adverse_event</td>\n",
       "      <td>presented</td>\n",
       "      <td>methotrexate</td>\n",
       "      <td>an iron deficiency anemia</td>\n",
       "      <td>1</td>\n",
       "      <td>[0.23363568, 0.18319114, 0.1728685, 0.04834792...</td>\n",
       "    </tr>\n",
       "    <tr>\n",
       "      <th>204</th>\n",
       "      <td>1893404_2</td>\n",
       "      <td>Diabetes Mellitus was observed in a patient gi...</td>\n",
       "      <td>Adverse_event</td>\n",
       "      <td>given</td>\n",
       "      <td>carbamazepine</td>\n",
       "      <td>Diabetes Mellitus</td>\n",
       "      <td>1</td>\n",
       "      <td>[0.2058276, 0.16691601, 0.13940434, 0.00298833...</td>\n",
       "    </tr>\n",
       "    <tr>\n",
       "      <th>135</th>\n",
       "      <td>8864370_4</td>\n",
       "      <td>Methotrexate-induced liver cirrhosis.</td>\n",
       "      <td>Adverse_event</td>\n",
       "      <td>induced</td>\n",
       "      <td>Methotrexate</td>\n",
       "      <td>liver cirrhosis</td>\n",
       "      <td>1</td>\n",
       "      <td>[0.26149443, 0.13777518, 0.11028444, 0.0283679...</td>\n",
       "    </tr>\n",
       "  </tbody>\n",
       "</table>\n",
       "</div>"
      ],
      "text/plain": [
       "             id                                            context  \\\n",
       "473  15965422_3  We report 5 patients (3 patients with chronic ...   \n",
       "842  19448237_1  Polymyoclonus seizure resulting from accidenta...   \n",
       "702  19058340_1  A 52 year-old male patient diagnosed of ankylo...   \n",
       "204   1893404_2  Diabetes Mellitus was observed in a patient gi...   \n",
       "135   8864370_4              Methotrexate-induced liver cirrhosis.   \n",
       "\n",
       "        event_type trigger_text                          drug  \\\n",
       "473  Adverse_event    developed  pegylated interferon alfa-2b   \n",
       "842  Adverse_event    resulting               tranexamic acid   \n",
       "702  Adverse_event    presented                  methotrexate   \n",
       "204  Adverse_event        given                 carbamazepine   \n",
       "135  Adverse_event      induced                  Methotrexate   \n",
       "\n",
       "                                         drug_effect  sentiment  \\\n",
       "473  local cutaneous reactions at sites of injection          1   \n",
       "842                            Polymyoclonus seizure          1   \n",
       "702                        an iron deficiency anemia          1   \n",
       "204                                Diabetes Mellitus          1   \n",
       "135                                  liver cirrhosis          1   \n",
       "\n",
       "                                    average_embeddings  \n",
       "473  [0.2544527, 0.19354717, 0.14985567, 0.04721336...  \n",
       "842  [0.24896334, 0.13466005, 0.19157723, -0.046153...  \n",
       "702  [0.23363568, 0.18319114, 0.1728685, 0.04834792...  \n",
       "204  [0.2058276, 0.16691601, 0.13940434, 0.00298833...  \n",
       "135  [0.26149443, 0.13777518, 0.11028444, 0.0283679...  "
      ]
     },
     "execution_count": 29,
     "metadata": {},
     "output_type": "execute_result"
    }
   ],
   "source": [
    "dev_df.sample(5)"
   ]
  },
  {
   "cell_type": "code",
   "execution_count": 30,
   "id": "dff508f0",
   "metadata": {},
   "outputs": [
    {
     "name": "stdout",
     "output_type": "stream",
     "text": [
      "Out of 961 entries in the dev set, 533 were correctly predicted by the model.\n",
      "Accuracy percentage: 55.46%\n"
     ]
    }
   ],
   "source": [
    "dev_embeddings = np.array(dev_df['average_embeddings'].tolist())\n",
    "dev_scaled = scaler.transform(dev_embeddings)\n",
    "\n",
    "dev_pred = best_balanced_model.predict(dev_scaled)\n",
    "comparison = pd.DataFrame({'Actual': dev_df['sentiment'], 'Predicted': dev_pred})\n",
    "\n",
    "# Determine the number of matches\n",
    "matches = comparison[comparison['Actual'] == comparison['Predicted']].shape[0]\n",
    "\n",
    "# Compute the percentage of correct predictions\n",
    "accuracy_percentage = (matches / comparison.shape[0]) * 100\n",
    "\n",
    "print(f\"Out of {comparison.shape[0]} entries in the dev set, {matches} were correctly predicted by the model.\")\n",
    "print(f\"Accuracy percentage: {accuracy_percentage:.2f}%\")"
   ]
  },
  {
   "cell_type": "code",
   "execution_count": 31,
   "id": "36e1b114",
   "metadata": {},
   "outputs": [
    {
     "name": "stdout",
     "output_type": "stream",
     "text": [
      "Accuracy: 0.55\n",
      "Precision: 0.92\n",
      "Recall: 0.55\n",
      "F1 score: 0.69\n",
      "ROC AUC score: 0.59\n",
      "Confusion Matrix: \n",
      "[[ 58  44]\n",
      " [384 475]]\n"
     ]
    }
   ],
   "source": [
    "y_prob = best_balanced_model.predict_proba(dev_scaled)[:,1]\n",
    "evaluate_model(dev_df['sentiment'], dev_pred, y_prob)"
   ]
  },
  {
   "cell_type": "markdown",
   "id": "93e1c9a7",
   "metadata": {},
   "source": [
    "## Comparing Results: MultinomialNB Classfier - unbalanced vs. balanced datasets.\n",
    "\n",
    "Here's a comparison table of the results before and after applying the class balancing technique (SMOTE):"
   ]
  },
  {
   "cell_type": "code",
   "execution_count": 32,
   "id": "f133f064",
   "metadata": {},
   "outputs": [
    {
     "data": {
      "text/html": [
       "<div>\n",
       "<style scoped>\n",
       "    .dataframe tbody tr th:only-of-type {\n",
       "        vertical-align: middle;\n",
       "    }\n",
       "\n",
       "    .dataframe tbody tr th {\n",
       "        vertical-align: top;\n",
       "    }\n",
       "\n",
       "    .dataframe thead th {\n",
       "        text-align: right;\n",
       "    }\n",
       "</style>\n",
       "<table border=\"1\" class=\"dataframe\">\n",
       "  <thead>\n",
       "    <tr style=\"text-align: right;\">\n",
       "      <th></th>\n",
       "      <th>Before SMOTE</th>\n",
       "      <th>After SMOTE</th>\n",
       "    </tr>\n",
       "  </thead>\n",
       "  <tbody>\n",
       "    <tr>\n",
       "      <th>Minority class count</th>\n",
       "      <td>349</td>\n",
       "      <td>3517</td>\n",
       "    </tr>\n",
       "    <tr>\n",
       "      <th>Majority class count</th>\n",
       "      <td>3517</td>\n",
       "      <td>3517</td>\n",
       "    </tr>\n",
       "    <tr>\n",
       "      <th>CV scores</th>\n",
       "      <td>[0.9095, 0.9095, 0.9093, 0.9093, 0.911]</td>\n",
       "      <td>[0.6147, 0.6119, 0.6353, 0.5998, 0.6152]</td>\n",
       "    </tr>\n",
       "    <tr>\n",
       "      <th>Mean CV score</th>\n",
       "      <td>0.9097</td>\n",
       "      <td>0.6154</td>\n",
       "    </tr>\n",
       "    <tr>\n",
       "      <th>Confusion Matrix</th>\n",
       "      <td>[[1, 69], [7, 697]]</td>\n",
       "      <td>[[471, 214], [313, 409]]</td>\n",
       "    </tr>\n",
       "  </tbody>\n",
       "</table>\n",
       "</div>"
      ],
      "text/plain": [
       "                                                 Before SMOTE  \\\n",
       "Minority class count                                      349   \n",
       "Majority class count                                     3517   \n",
       "CV scores             [0.9095, 0.9095, 0.9093, 0.9093, 0.911]   \n",
       "Mean CV score                                          0.9097   \n",
       "Confusion Matrix                          [[1, 69], [7, 697]]   \n",
       "\n",
       "                                                   After SMOTE  \n",
       "Minority class count                                      3517  \n",
       "Majority class count                                      3517  \n",
       "CV scores             [0.6147, 0.6119, 0.6353, 0.5998, 0.6152]  \n",
       "Mean CV score                                           0.6154  \n",
       "Confusion Matrix                      [[471, 214], [313, 409]]  "
      ]
     },
     "execution_count": 32,
     "metadata": {},
     "output_type": "execute_result"
    }
   ],
   "source": [
    "data = {\n",
    "    'Before SMOTE': [349, 3517, [0.9095, 0.9095, 0.9093, 0.9093, 0.9110], 0.9097, [[1, 69], [7, 697]]],\n",
    "    'After SMOTE': [3517, 3517, [0.6147, 0.6119, 0.6353, 0.5998, 0.6152], 0.6154, [[471, 214], [313, 409]]]\n",
    "}\n",
    "\n",
    "index = ['Minority class count', 'Majority class count', 'CV scores', 'Mean CV score', 'Confusion Matrix']\n",
    "\n",
    "summary_report = pd.DataFrame(data, index=index)\n",
    "summary_report"
   ]
  },
  {
   "cell_type": "markdown",
   "id": "00cc4348",
   "metadata": {},
   "source": [
    "Before class balancing, the model showed a high mean CV score (**0.9097**), but the confusion matrix suggested that it wasn't performing well on the minority class (only 1 true positive instance).\n",
    "\n",
    "After applying SMOTE to balance the classes, the count of the minority class increased to match the majority class (from 349 to 3517). However, the mean cross-validation score decreased (from 0.9097 to 0.6154), which indicates that overall model performance was reduced. But the model's ability to predict the minority class improved significantly, as shown by the increased count of true positives in the confusion matrix (from 1 to 471).\n",
    "\n",
    "**Implication:**\n",
    "\n",
    "Before we addressed the class imbalance, the model was heavily biased towards the majority class (ADE), leading to a high overall accuracy, but it struggled to identify the minority class (PTE).\n",
    "\n",
    "After we balanced the classes , the model's overall accuracy decreased. However, its ability to correctly identify instances of the minority class (PTE) improved substantially. This suggests that the trade-off resulted in a model that is more useful in practice, as it is now more capable of identifying both PTE and ADE events, which was the goal of this analysis.\n",
    "\n",
    "It's important to note that the objective in pharmacovigilance sentiment analysis is not merely to maximize accuracy, but also to effectively identify both positive and negative events. After balancing the classes, the model is better equipped to do this, despite the decrease in overall accuracy.\n",
    "\n",
    "\n",
    "***NOTE: I have used only train + test datasets. I will be using the hold out data dev to see how the model is working on unseen data***"
   ]
  },
  {
   "cell_type": "markdown",
   "id": "9901a440",
   "metadata": {},
   "source": [
    "## Comparing Results: Predicting using MultinomialNB - unbalanced vs. balanced datasets."
   ]
  },
  {
   "cell_type": "markdown",
   "id": "d02f5d01",
   "metadata": {},
   "source": [
    "| Metric    | Before Rebalancing | After Rebalancing |\n",
    "|-----------|-------------------|------------------|\n",
    "| Accuracy  | 0.90              | 0.55             |\n",
    "| Precision | 0.91              | 0.92             |\n",
    "| Recall    | 0.99              | 0.55             |\n",
    "| F1 score  | 0.95              | 0.69             |\n",
    "| ROC AUC   | 0.61              | 0.59             |\n",
    "\n",
    "- Accuracy: The model's overall correctness in predicting sentiments decreased significantly after rebalancing the classes, dropping from 90% to 55%.\n",
    "- Precision: The model maintained a high level of correctness in identifying true positive sentiments (Potential Therapeutic Effects), with precision remaining relatively stable before and after rebalancing (91% and 92% respectively).\n",
    "- Recall: The model's ability to capture positive sentiments (Potential Therapeutic Effects) dropped considerably after rebalancing, resulting in a decrease in recall from 99% to 55%.\n",
    "- F1 score: The balance between correctly identifying positive sentiments (Potential Therapeutic Effects) and avoiding false positives and false negatives was significantly affected, as indicated by the decrease in F1 score from 95% to 69% after rebalancing.\n",
    "- ROC AUC score: The model's ability to discriminate between positive (Potential Therapeutic Effects) and negative sentiments (Adverse Events) slightly worsened after rebalancing, with the ROC AUC score decreasing from 61% to 59%.\n",
    "\n",
    "**Summary:**\n",
    "Rebalancing the classes in the had a negative impact on the model's performance. While precision remained high, the decrease in accuracy, recall, F1 score, and a slight decline in the ROC AUC score indicate a deterioration in the model's overall predictive capability. \n",
    "\n",
    "Balancing the classes in this domain requires careful consideration to strike the right trade-off between class balance and predictive performance. The model's ability to accurately identify PTE's decreased significantly, resulting in a higher number of **false negatives**. Maintaining a high recall for Adverse Event's is crucial in pharmacovigilance tasks, and rebalancing the classes negatively affected this metric."
   ]
  },
  {
   "cell_type": "code",
   "execution_count": 50,
   "id": "6e8868f8",
   "metadata": {},
   "outputs": [
    {
     "data": {
      "image/png": "[encoded data removed]",
      "text/plain": [
       "<Figure size 1000x600 with 1 Axes>"
      ]
     },
     "metadata": {},
     "output_type": "display_data"
    }
   ],
   "source": [
    "metrics = ['Accuracy', 'Precision', 'Recall', 'F1 Score', 'ROC AUC']\n",
    "before_rebalancing = [0.90, 0.91, 0.99, 0.95, 0.61]\n",
    "after_rebalancing = [0.55, 0.92, 0.55, 0.69, 0.59]\n",
    "\n",
    "plt.figure(figsize=(10, 6))\n",
    "\n",
    "plt.bar(metrics, before_rebalancing, label='Before Rebalancing', alpha=0.7)\n",
    "plt.bar(metrics, after_rebalancing, label='After Rebalancing', alpha=0.7)\n",
    "\n",
    "plt.xlabel('Metrics')\n",
    "plt.ylabel('Values')\n",
    "plt.title('Comparison of Metrics Before and After Class Rebalancing')\n",
    "plt.legend()\n",
    "\n",
    "for i, value in enumerate(before_rebalancing):\n",
    "    plt.text(i, value + 0.01, str(value), ha='center', va='bottom')\n",
    "for i, value in enumerate(after_rebalancing):\n",
    "    plt.text(i, value + 0.01, str(value), ha='center', va='bottom')\n",
    "\n",
    "\n",
    "plt.show()"
   ]
  },
  {
   "cell_type": "markdown",
   "id": "a015c4ae",
   "metadata": {},
   "source": [
    "#### ROC & AUC Plots"
   ]
  },
  {
   "cell_type": "code",
   "execution_count": 42,
   "id": "4543ad25",
   "metadata": {},
   "outputs": [
    {
     "data": {
      "image/png": "[encoded data removed]",
      "text/plain": [
       "<Figure size 800x600 with 1 Axes>"
      ]
     },
     "metadata": {},
     "output_type": "display_data"
    }
   ],
   "source": [
    "# Compute predicted probabilities for positive class\n",
    "y_prob_unbalanced = best_unbalanced_model.predict_proba(X_test_scaled)[:, 1]\n",
    "y_prob_balanced = best_balanced_model.predict_proba(X_test_scaled)[:, 1]\n",
    "\n",
    "# Compute ROC curve and ROC AUC score for both models\n",
    "fpr_unbalanced, tpr_unbalanced, thresholds_unbalanced = roc_curve(y_test, y_prob_unbalanced)\n",
    "roc_auc_unbalanced = roc_auc_score(y_test, y_prob_unbalanced)\n",
    "\n",
    "fpr_balanced, tpr_balanced, thresholds_balanced = roc_curve(y_test, y_prob_balanced)\n",
    "roc_auc_balanced = roc_auc_score(y_test, y_prob_balanced)\n",
    "\n",
    "# Plot ROC curves\n",
    "plt.figure(figsize=(8, 6))\n",
    "plt.plot(fpr_unbalanced, tpr_unbalanced, label=f'Unbalanced Model (AUC = {roc_auc_unbalanced:.2f})')\n",
    "plt.plot(fpr_balanced, tpr_balanced, label=f'Balanced Model (AUC = {roc_auc_balanced:.2f})')\n",
    "plt.plot([0, 1], [0, 1], 'k--')\n",
    "plt.xlim([0.0, 1.0])\n",
    "plt.ylim([0.0, 1.05])\n",
    "plt.xlabel('False Positive Rate')\n",
    "plt.ylabel('True Positive Rate')\n",
    "plt.title('Receiver Operating Characteristic')\n",
    "plt.legend(loc='lower right')\n",
    "plt.show()"
   ]
  },
  {
   "cell_type": "markdown",
   "id": "1d0d00f9",
   "metadata": {},
   "source": [
    "#### Interpretation:\n",
    "\n",
    "- Discrimination Capability: The ROC curves show how well the models can distinguish between positive and negative sentiments in pharmacovigilance data.\n",
    "\n",
    "- Performance Comparison: The balanced model outperforms the unbalanced model, as indicated by its higher AUC value, suggesting a higher probability of accurate sentiment classification.\n",
    "\n",
    "- Sensitivity and Specificity Trade-off: The ROC curves illustrate the balance between correctly identifying potential therapeutic effects and avoiding false positives (misclassifying adverse events).\n",
    "\n",
    "- Model Selection: The higher AUC value of the balanced model makes it a more favorable choice for accurately distinguishing between positive and negative sentiments.\n",
    "\n",
    "**Final Conclusion:**\n",
    "The evaluation of the sentiment analysis models for pharmacovigilance data reveal some important insights. While the rebalanced model improves the balance between positive and negative sentiment classification, it comes at the cost of overall predictive performance. The unbalanced model demonstrates higher accuracy, precision, recall, F1 score, and ROC AUC score, indicating better overall sentiment prediction capability.\n",
    "\n",
    "However, Pharmacovigilance requires accurate identification of adverse events, making the balanced model valuable for minimizing false negatives (missed adverse events) at the expense of a decrease in overall accuracy. In conclusion, the unbalanced model showcases superior overall predictive performance, while the balanced model provides better sensitivity in identifying adverse events."
   ]
  },
  {
   "cell_type": "markdown",
   "id": "8d04013f",
   "metadata": {},
   "source": [
    "# SVM"
   ]
  },
  {
   "cell_type": "code",
   "execution_count": null,
   "id": "3d185d53",
   "metadata": {},
   "outputs": [],
   "source": [
    "from sklearn.model_selection import train_test_split\n",
    "from sklearn.preprocessing import MinMaxScaler\n",
    "from sklearn.svm import SVC\n",
    "from sklearn.metrics import classification_report, accuracy_score\n",
    "from sklearn.pipeline import Pipeline\n",
    "from sklearn.model_selection import GridSearchCV\n",
    "import numpy as np\n",
    "\n",
    "X_train, X_test, y_train, y_test = train_test_split(df.drop('sentiment', axis=1),\n",
    "                                                    df['sentiment'], test_size=0.2, random_state=42)\n",
    "\n",
    "scaler = MinMaxScaler(feature_range=(0, 1))\n",
    "\n",
    "X_train_embeddings = np.array(X_train['average_embeddings'].tolist())\n",
    "X_test_embeddings = np.array(X_test['average_embeddings'].tolist())\n",
    "\n",
    "X_train_scaled = scaler.fit_transform(X_train_embeddings)\n",
    "X_test_scaled = scaler.transform(X_test_embeddings)\n",
    "\n",
    "pipeline = Pipeline([\n",
    "    ('scaler', MinMaxScaler(feature_range=(0, 1))),\n",
    "    ('classifier', SVC())\n",
    "])\n",
    "\n",
    "param_grid = {\n",
    "    'classifier__C': [0.1, 1.0, 10.0],  # example parameter grid for SVC\n",
    "    'classifier__kernel': ['linear', 'rbf'],  # you can customize this to the kernels you want to tune\n",
    "}\n",
    "\n",
    "grid_search = GridSearchCV(pipeline, param_grid, cv=5)\n",
    "grid_search.fit(X_train_scaled, y_train)\n",
    "\n",
    "best_model = grid_search.best_estimator_\n",
    "\n",
    "y_pred = best_model.predict(X_test_scaled)\n",
    "\n",
    "accuracy = accuracy_score(y_test, y_pred)\n",
    "print(\"Accuracy:\", accuracy)\n",
    "\n",
    "report = classification_report(y_test, y_pred, zero_division=1)\n",
    "print(\"Classification Report:\")\n",
    "print(report)"
   ]
  }
 ],
 "metadata": {
  "kernelspec": {
   "display_name": "Python 3",
   "language": "python",
   "name": "python3"
  },
  "language_info": {
   "codemirror_mode": {
    "name": "ipython",
    "version": 3
   },
   "file_extension": ".py",
   "mimetype": "text/x-python",
   "name": "python",
   "nbconvert_exporter": "python",
   "pygments_lexer": "ipython3",
   "version": "3.9.13"
  }
 },
 "nbformat": 4,
 "nbformat_minor": 5
}

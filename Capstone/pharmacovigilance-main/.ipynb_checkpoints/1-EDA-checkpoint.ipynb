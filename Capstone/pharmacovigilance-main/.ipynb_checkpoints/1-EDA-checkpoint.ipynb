{
 "cells": [
  {
   "cell_type": "code",
   "execution_count": 1,
   "id": "fc279e86",
   "metadata": {},
   "outputs": [],
   "source": [
    "import pandas as pd\n",
    "import numpy as np\n",
    "import nltk\n",
    "\n",
    "from nltk.tokenize import sent_tokenize\n",
    "from nltk.corpus import stopwords\n",
    "from collections import Counter\n",
    "\n",
    "import re\n",
    "import string\n",
    "\n",
    "from sklearn.feature_extraction.text import CountVectorizer"
   ]
  },
  {
   "cell_type": "code",
   "execution_count": 4,
   "id": "ff31faf3",
   "metadata": {},
   "outputs": [
    {
     "name": "stderr",
     "output_type": "stream",
     "text": [
      "/var/folders/6t/t1pgd71d3296txhmwy6fg76r0000gn/T/ipykernel_64727/1827706672.py:1: DtypeWarning: Columns (112,114,121,125,157,168,186,188,206,208,217,229,231,232,233,235,237,241,244,246,247,249,250,251,268,270,271,280,282,286,288,289,291,305,310,312,313,315,316,318,319,323,324,327,328,329,331,333,335,336,338,342,344,348,350,352,353,355,356,358,359,361) have mixed types. Specify dtype option on import or set low_memory=False.\n",
      "  df = pd.read_csv('data/train.csv')\n"
     ]
    }
   ],
   "source": [
    "df = pd.read_csv('data/train_1.csv')"
   ]
  },
  {
   "cell_type": "code",
   "execution_count": 8,
   "id": "da03f0aa",
   "metadata": {},
   "outputs": [
    {
     "data": {
      "text/plain": [
       "(2898, 362)"
      ]
     },
     "execution_count": 8,
     "metadata": {},
     "output_type": "execute_result"
    }
   ],
   "source": [
    "df.shape"
   ]
  },
  {
   "cell_type": "code",
   "execution_count": 3,
   "id": "880a238d",
   "metadata": {},
   "outputs": [
    {
     "ename": "NameError",
     "evalue": "name 'df' is not defined",
     "output_type": "error",
     "traceback": [
      "\u001b[0;31m---------------------------------------------------------------------------\u001b[0m",
      "\u001b[0;31mNameError\u001b[0m                                 Traceback (most recent call last)",
      "\u001b[0;32m/var/folders/6t/t1pgd71d3296txhmwy6fg76r0000gn/T/ipykernel_64727/3398224481.py\u001b[0m in \u001b[0;36m<module>\u001b[0;34m\u001b[0m\n\u001b[1;32m      1\u001b[0m \u001b[0;31m# Character counts\u001b[0m\u001b[0;34m\u001b[0m\u001b[0;34m\u001b[0m\u001b[0m\n\u001b[0;32m----> 2\u001b[0;31m \u001b[0mdf\u001b[0m\u001b[0;34m[\u001b[0m\u001b[0;34m\"char_count\"\u001b[0m\u001b[0;34m]\u001b[0m \u001b[0;34m=\u001b[0m \u001b[0mdf\u001b[0m\u001b[0;34m[\u001b[0m\u001b[0;34m\"text\"\u001b[0m\u001b[0;34m]\u001b[0m\u001b[0;34m.\u001b[0m\u001b[0mmap\u001b[0m\u001b[0;34m(\u001b[0m\u001b[0;32mlambda\u001b[0m \u001b[0mx\u001b[0m\u001b[0;34m:\u001b[0m \u001b[0mlen\u001b[0m\u001b[0;34m(\u001b[0m\u001b[0mx\u001b[0m\u001b[0;34m)\u001b[0m\u001b[0;34m)\u001b[0m\u001b[0;34m\u001b[0m\u001b[0;34m\u001b[0m\u001b[0m\n\u001b[0m\u001b[1;32m      3\u001b[0m \u001b[0;31m# Word counts\u001b[0m\u001b[0;34m\u001b[0m\u001b[0;34m\u001b[0m\u001b[0m\n\u001b[1;32m      4\u001b[0m \u001b[0mdf\u001b[0m\u001b[0;34m[\u001b[0m\u001b[0;34m\"word_count\"\u001b[0m\u001b[0;34m]\u001b[0m \u001b[0;34m=\u001b[0m \u001b[0mdf\u001b[0m\u001b[0;34m[\u001b[0m\u001b[0;34m\"text\"\u001b[0m\u001b[0;34m]\u001b[0m\u001b[0;34m.\u001b[0m\u001b[0mmap\u001b[0m\u001b[0;34m(\u001b[0m\u001b[0;32mlambda\u001b[0m \u001b[0mx\u001b[0m\u001b[0;34m:\u001b[0m \u001b[0mlen\u001b[0m\u001b[0;34m(\u001b[0m\u001b[0mx\u001b[0m\u001b[0;34m.\u001b[0m\u001b[0msplit\u001b[0m\u001b[0;34m(\u001b[0m\u001b[0;34m)\u001b[0m\u001b[0;34m)\u001b[0m\u001b[0;34m)\u001b[0m\u001b[0;34m\u001b[0m\u001b[0;34m\u001b[0m\u001b[0m\n\u001b[1;32m      5\u001b[0m \u001b[0;31m# Sentence counts\u001b[0m\u001b[0;34m\u001b[0m\u001b[0;34m\u001b[0m\u001b[0m\n",
      "\u001b[0;31mNameError\u001b[0m: name 'df' is not defined"
     ]
    }
   ],
   "source": [
    "# Character counts\n",
    "df[\"char_count\"] = df[\"text\"].map(lambda x: len(x))\n",
    "# Word counts\n",
    "df[\"word_count\"] = df[\"text\"].map(lambda x: len(x.split()))\n",
    "# Sentence counts\n",
    "df[\"sent_count\"] = df[\"text\"].map(lambda x: len(sent_tokenize(x)))\n",
    "# String counts\n",
    "df[\"hashtag_count\"] = df[\"text\"].map(lambda x: x.count(\"#\"))\n",
    "# Average word length\n",
    "df[\"avg_word_len\"] = df[\"text\"].map(lambda x: np.mean([len(w) for w in str(x).split()]))\n",
    "# Average sentence length\n",
    "df[\"avg_sent_len\"] = df[\"text\"].map(lambda x: np.mean([len(w.split()) for w in sent_tokenize(x)]))\n",
    "\n",
    "def clean_text(text):\n",
    "    # Convert text to lowercase\n",
    "    text = text.lower()\n",
    "    # Remove punctuation\n",
    "    text = re.sub(\"[%s]\" % re.escape(string.punctuation), \"\", text)\n",
    "    # Remove non-Roman characters\n",
    "    text = re.sub(\"([^\\x00-\\x7F])+\", \" \", text)\n",
    "    \n",
    "    return text\n",
    "\n",
    "df[\"text_clean\"] = df[\"text\"].map(lambda x: clean_text(x))\n",
    "\n",
    "\n",
    "def get_most_common_words(df):\n",
    "    stop = set(stopwords.words(\"english\"))\n",
    "\n",
    "    corpus = [word for i in df[\"text_clean\"].str.split().values.tolist() for word in i if (word not in stop)]\n",
    "    most_common = Counter(corpus).most_common(10)\n",
    "    words, frequency = [], []\n",
    "    for word, count in most_common:\n",
    "        words.append(word)\n",
    "        frequency.append(count)\n",
    "        \n",
    "    return words, frequency\n",
    "\n",
    "def get_ngram_freq(n, df):\n",
    "    # Initialize CountVectorizer\n",
    "    vec = CountVectorizer(stop_words = stop, \n",
    "                          ngram_range = (n, n))\n",
    "\n",
    "    # Matrix of ngrams\n",
    "    bow = vec.fit_transform(df[\"text_clean\"])\n",
    "\n",
    "    # Count frequency of ngrams\n",
    "    count_values = bow.toarray().sum(axis=0)\n",
    "\n",
    "    # Create DataFrame from ngram frequencies\n",
    "    ngram_freq = pd.DataFrame([(count_values[i], k) for k, i in vec.vocabulary_.items()])\n",
    "    ngram_freq.columns = [\"frequency\", \"ngram\"]\n",
    "    ngram_freq.sort_values(by = \"frequency\",  ascending = False, inplace = True)\n",
    "\n",
    "    return ngram_freq"
   ]
  },
  {
   "cell_type": "code",
   "execution_count": null,
   "id": "7385ed3a",
   "metadata": {},
   "outputs": [],
   "source": [
    "text = \"Very #comfortable and #versatile. Got lots of compliments.\""
   ]
  }
 ],
 "metadata": {
  "kernelspec": {
   "display_name": "Python 3",
   "language": "python",
   "name": "python3"
  },
  "language_info": {
   "codemirror_mode": {
    "name": "ipython",
    "version": 3
   },
   "file_extension": ".py",
   "mimetype": "text/x-python",
   "name": "python",
   "nbconvert_exporter": "python",
   "pygments_lexer": "ipython3",
   "version": "3.9.13"
  }
 },
 "nbformat": 4,
 "nbformat_minor": 5
}

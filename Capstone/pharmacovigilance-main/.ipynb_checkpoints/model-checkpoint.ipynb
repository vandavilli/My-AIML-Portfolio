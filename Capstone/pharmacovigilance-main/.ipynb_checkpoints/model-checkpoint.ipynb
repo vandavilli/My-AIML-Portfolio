{
 "cells": [
  {
   "cell_type": "code",
   "execution_count": 1,
   "id": "312be638",
   "metadata": {},
   "outputs": [],
   "source": [
    "from sklearn.feature_extraction.text import TfidfVectorizer\n",
    "from sklearn.decomposition import LatentDirichletAllocation\n",
    "from scipy import sparse\n",
    "\n",
    "import numpy as np\n",
    "import pandas as pd\n",
    "import random"
   ]
  },
  {
   "cell_type": "code",
   "execution_count": null,
   "id": "cae4a7d2",
   "metadata": {},
   "outputs": [],
   "source": [
    "train_data = pd.read_csv('data/train.csv')"
   ]
  },
  {
   "cell_type": "code",
   "execution_count": null,
   "id": "4f29c31c",
   "metadata": {},
   "outputs": [],
   "source": [
    "train_data['sentiment'] = train_data['event_type'].map(sentiment_mapping)"
   ]
  },
  {
   "cell_type": "code",
   "execution_count": null,
   "id": "165b214b",
   "metadata": {},
   "outputs": [],
   "source": [
    "selected_columns = ['id', 'context', 'annotations/0/events/0/event_type', \n",
    "                    'annotations/0/events/0/Trigger/text/0/0', \n",
    "                    'annotations/0/events/0/Treatment/Drug/text/0/0','annotations/0/events/0/Effect/text/0/0']\n",
    "new_names = ['id', 'context', 'event_type', 'trigger_text', 'drug', 'drug_effect']\n",
    "df = train_data[selected_columns].rename(columns=dict(zip(selected_columns, new_names)))"
   ]
  },
  {
   "cell_type": "code",
   "execution_count": null,
   "id": "174fc152",
   "metadata": {},
   "outputs": [],
   "source": [
    "sentiment_mapping = {'Adverse_event': 1, 'Potential_therapeutic_event': 0}\n",
    "train_data['sentiment'] = train_data['event_type'].map(sentiment_mapping)"
   ]
  },
  {
   "cell_type": "code",
   "execution_count": null,
   "id": "4b66f29d",
   "metadata": {},
   "outputs": [],
   "source": [
    "X_train = train_data.drop('sentiment', axis=1)\n",
    "y_train = train_data['sentiment']"
   ]
  },
  {
   "cell_type": "markdown",
   "id": "abb140c6",
   "metadata": {},
   "source": [
    "## tf–idf (Term Frequency–Inverse Document Frequency)"
   ]
  },
  {
   "cell_type": "code",
   "execution_count": null,
   "id": "315e8b25",
   "metadata": {},
   "outputs": [],
   "source": [
    "tfidf_vectorizer = TfidfVectorizer(max_df=0.95, \n",
    "                                   min_df=100,\n",
    "                                   stop_words='english')"
   ]
  },
  {
   "cell_type": "code",
   "execution_count": null,
   "id": "2062366d",
   "metadata": {},
   "outputs": [],
   "source": [
    "tfidf = tfidf_vectorizer.fit_transform(data_samples)"
   ]
  },
  {
   "cell_type": "code",
   "execution_count": null,
   "id": "2f632d71",
   "metadata": {},
   "outputs": [],
   "source": [
    "tfidf = tfidf.toarray()\n",
    "l, _ = tfidf.shape\n",
    "\n",
    "X_train, X_test = np.split(tfidf, [int(l*(split_percentage/100))])\n",
    "\n",
    "X_train = sparse.csr_matrix(X_train)\n",
    "X_test = sparse.csr_matrix(X_test)\n",
    "\n",
    "print(X_train.shape)\n",
    "print(X_test.shape)"
   ]
  },
  {
   "cell_type": "markdown",
   "id": "68cdeb72",
   "metadata": {},
   "source": [
    "## Term Frequency Matrix"
   ]
  },
  {
   "cell_type": "code",
   "execution_count": null,
   "id": "483ba7e6",
   "metadata": {},
   "outputs": [],
   "source": [
    "df = pd.DataFrame.sparse.from_spmatrix(X_train)\n",
    "df.columns = tfidf_vectorizer.get_feature_names()\n",
    "df"
   ]
  },
  {
   "cell_type": "markdown",
   "id": "85206bec",
   "metadata": {},
   "source": [
    "## Model"
   ]
  },
  {
   "cell_type": "code",
   "execution_count": null,
   "id": "be5f1988",
   "metadata": {},
   "outputs": [],
   "source": [
    "topics = 2\n",
    "model = LatentDirichletAllocation(n_components=topics)"
   ]
  },
  {
   "cell_type": "code",
   "execution_count": null,
   "id": "001ec1a5",
   "metadata": {},
   "outputs": [],
   "source": [
    "model.fit(X_train)"
   ]
  },
  {
   "cell_type": "markdown",
   "id": "ec83f741",
   "metadata": {},
   "source": [
    "## Topic Results"
   ]
  },
  {
   "cell_type": "code",
   "execution_count": null,
   "id": "390fa480",
   "metadata": {},
   "outputs": [],
   "source": [
    "tf_feature_names = tfidf_vectorizer.get_feature_names()\n",
    "\n",
    "def print_top_words(model, feature_names, n_top_words):\n",
    "    for topic_idx, topic in enumerate(model.components_):\n",
    "        message = \"Topic #%d: \" % topic_idx\n",
    "        message += \" \".join([feature_names[i]\n",
    "                             for i in topic.argsort()[:-n_top_words - 1:-1]])\n",
    "        print(message)\n",
    "    print()\n",
    "    \n",
    "print_top_words(model, tf_feature_names, 10)"
   ]
  },
  {
   "cell_type": "markdown",
   "id": "954f24bf",
   "metadata": {},
   "source": [
    "## Test"
   ]
  },
  {
   "cell_type": "code",
   "execution_count": null,
   "id": "aaaa615b",
   "metadata": {},
   "outputs": [],
   "source": [
    "test_sample = 1"
   ]
  },
  {
   "cell_type": "code",
   "execution_count": null,
   "id": "ec751d0d",
   "metadata": {},
   "outputs": [],
   "source": [
    "p = model.transform(X_test[test_sample])\n",
    "print(p)"
   ]
  },
  {
   "cell_type": "code",
   "execution_count": null,
   "id": "c0e48a49",
   "metadata": {},
   "outputs": [],
   "source": [
    "t = p.argmax()\n",
    "print(\"Topic #{}\".format(t))"
   ]
  },
  {
   "cell_type": "code",
   "execution_count": null,
   "id": "d55d422c",
   "metadata": {},
   "outputs": [],
   "source": [
    "print(X_test_document[test_sample])"
   ]
  }
 ],
 "metadata": {
  "kernelspec": {
   "display_name": "Python 3",
   "language": "python",
   "name": "python3"
  },
  "language_info": {
   "codemirror_mode": {
    "name": "ipython",
    "version": 3
   },
   "file_extension": ".py",
   "mimetype": "text/x-python",
   "name": "python",
   "nbconvert_exporter": "python",
   "pygments_lexer": "ipython3",
   "version": "3.9.13"
  }
 },
 "nbformat": 4,
 "nbformat_minor": 5
}

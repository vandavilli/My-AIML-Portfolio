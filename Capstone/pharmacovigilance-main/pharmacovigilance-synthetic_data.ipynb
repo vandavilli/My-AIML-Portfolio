{
 "cells": [
  {
   "cell_type": "code",
   "execution_count": 3,
   "id": "1a282244",
   "metadata": {},
   "outputs": [
    {
     "name": "stdout",
     "output_type": "stream",
     "text": [
      "Collecting Faker\n",
      "  Downloading Faker-18.9.0-py3-none-any.whl (1.7 MB)\n",
      "\u001b[2K     \u001b[90m━━━━━━━━━━━━━━━━━━━━━━━━━━━━━━━━━━━━━━━━\u001b[0m \u001b[32m1.7/1.7 MB\u001b[0m \u001b[31m4.3 MB/s\u001b[0m eta \u001b[36m0:00:00\u001b[0m:00:01\u001b[0m00:01\u001b[0m\n",
      "\u001b[?25hRequirement already satisfied: python-dateutil>=2.4 in /Users/vandavilli/opt/anaconda3/lib/python3.9/site-packages (from Faker) (2.8.2)\n",
      "Requirement already satisfied: six>=1.5 in /Users/vandavilli/opt/anaconda3/lib/python3.9/site-packages (from python-dateutil>=2.4->Faker) (1.16.0)\n",
      "Installing collected packages: Faker\n",
      "Successfully installed Faker-18.9.0\n"
     ]
    }
   ],
   "source": [
    "#!pip install Faker"
   ]
  },
  {
   "cell_type": "code",
   "execution_count": 4,
   "id": "04ef1f53",
   "metadata": {},
   "outputs": [],
   "source": [
    "from faker import Faker\n",
    "import pandas as pd"
   ]
  },
  {
   "cell_type": "code",
   "execution_count": 7,
   "id": "450d79d6",
   "metadata": {},
   "outputs": [
    {
     "data": {
      "text/html": [
       "<div>\n",
       "<style scoped>\n",
       "    .dataframe tbody tr th:only-of-type {\n",
       "        vertical-align: middle;\n",
       "    }\n",
       "\n",
       "    .dataframe tbody tr th {\n",
       "        vertical-align: top;\n",
       "    }\n",
       "\n",
       "    .dataframe thead th {\n",
       "        text-align: right;\n",
       "    }\n",
       "</style>\n",
       "<table border=\"1\" class=\"dataframe\">\n",
       "  <thead>\n",
       "    <tr style=\"text-align: right;\">\n",
       "      <th></th>\n",
       "      <th>id</th>\n",
       "      <th>context</th>\n",
       "      <th>event_type</th>\n",
       "      <th>trigger_text</th>\n",
       "      <th>drug</th>\n",
       "      <th>drug_effect</th>\n",
       "      <th>sentiment</th>\n",
       "    </tr>\n",
       "  </thead>\n",
       "  <tbody>\n",
       "    <tr>\n",
       "      <th>0</th>\n",
       "      <td>71717327</td>\n",
       "      <td>Action morning what picture me name turn.</td>\n",
       "      <td>somebody</td>\n",
       "      <td>rise</td>\n",
       "      <td>beyond</td>\n",
       "      <td>Then war debate address.</td>\n",
       "      <td>1</td>\n",
       "    </tr>\n",
       "    <tr>\n",
       "      <th>1</th>\n",
       "      <td>38508321</td>\n",
       "      <td>Project no wind range money.</td>\n",
       "      <td>see</td>\n",
       "      <td>space</td>\n",
       "      <td>situation</td>\n",
       "      <td>Cover budget him attention.</td>\n",
       "      <td>1</td>\n",
       "    </tr>\n",
       "    <tr>\n",
       "      <th>2</th>\n",
       "      <td>22251935</td>\n",
       "      <td>Outside bar four conference list.</td>\n",
       "      <td>at</td>\n",
       "      <td>manage</td>\n",
       "      <td>child</td>\n",
       "      <td>Type decide approach suddenly great.</td>\n",
       "      <td>1</td>\n",
       "    </tr>\n",
       "    <tr>\n",
       "      <th>3</th>\n",
       "      <td>65891278</td>\n",
       "      <td>Executive half hit issue loss quickly glass.</td>\n",
       "      <td>section</td>\n",
       "      <td>out</td>\n",
       "      <td>lay</td>\n",
       "      <td>Tell teacher third training tree.</td>\n",
       "      <td>0</td>\n",
       "    </tr>\n",
       "    <tr>\n",
       "      <th>4</th>\n",
       "      <td>5006507</td>\n",
       "      <td>Figure season read note final carry finish cause.</td>\n",
       "      <td>dog</td>\n",
       "      <td>well</td>\n",
       "      <td>perhaps</td>\n",
       "      <td>Son minute couple music.</td>\n",
       "      <td>0</td>\n",
       "    </tr>\n",
       "  </tbody>\n",
       "</table>\n",
       "</div>"
      ],
      "text/plain": [
       "         id                                            context event_type  \\\n",
       "0  71717327          Action morning what picture me name turn.   somebody   \n",
       "1  38508321                       Project no wind range money.        see   \n",
       "2  22251935                  Outside bar four conference list.         at   \n",
       "3  65891278       Executive half hit issue loss quickly glass.    section   \n",
       "4   5006507  Figure season read note final carry finish cause.        dog   \n",
       "\n",
       "  trigger_text       drug                           drug_effect  sentiment  \n",
       "0         rise     beyond              Then war debate address.          1  \n",
       "1        space  situation           Cover budget him attention.          1  \n",
       "2       manage      child  Type decide approach suddenly great.          1  \n",
       "3          out        lay     Tell teacher third training tree.          0  \n",
       "4         well    perhaps              Son minute couple music.          0  "
      ]
     },
     "execution_count": 7,
     "metadata": {},
     "output_type": "execute_result"
    }
   ],
   "source": [
    "fake = Faker()\n",
    "num_rows = 100\n",
    "data = {\n",
    "    'id': [],\n",
    "    'context': [],\n",
    "    'event_type': [],\n",
    "    'trigger_text': [],\n",
    "    'drug': [],\n",
    "    'drug_effect': [],\n",
    "    'sentiment': []\n",
    "}\n",
    "\n",
    "for _ in range(num_rows):\n",
    "    data['id'].append(fake.unique.random_number(digits=8))\n",
    "    data['context'].append(fake.sentence())\n",
    "    data['event_type'].append(fake.word())\n",
    "    data['trigger_text'].append(fake.word())\n",
    "    data['drug'].append(fake.word())\n",
    "    data['drug_effect'].append(fake.sentence())\n",
    "    data['sentiment'].append(fake.random_int(min=0, max=1))\n",
    "\n",
    "df = pd.DataFrame(data)\n",
    "\n",
    "df.head(5)"
   ]
  },
  {
   "cell_type": "code",
   "execution_count": null,
   "id": "24f0c6e3",
   "metadata": {},
   "outputs": [],
   "source": []
  }
 ],
 "metadata": {
  "kernelspec": {
   "display_name": "Python 3",
   "language": "python",
   "name": "python3"
  },
  "language_info": {
   "codemirror_mode": {
    "name": "ipython",
    "version": 3
   },
   "file_extension": ".py",
   "mimetype": "text/x-python",
   "name": "python",
   "nbconvert_exporter": "python",
   "pygments_lexer": "ipython3",
   "version": "3.9.13"
  }
 },
 "nbformat": 4,
 "nbformat_minor": 5
}

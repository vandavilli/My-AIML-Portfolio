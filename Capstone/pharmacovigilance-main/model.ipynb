{
 "cells": [
  {
   "cell_type": "code",
   "execution_count": 1,
   "id": "312be638",
   "metadata": {},
   "outputs": [],
   "source": [
    "from sklearn.feature_extraction.text import TfidfVectorizer\n",
    "from sklearn.decomposition import LatentDirichletAllocation\n",
    "from scipy import sparse\n",
    "from sklearn.model_selection import GridSearchCV\n",
    "\n",
    "import numpy as np\n",
    "import pandas as pd\n",
    "import random"
   ]
  },
  {
   "cell_type": "code",
   "execution_count": null,
   "id": "9ddbace1",
   "metadata": {},
   "outputs": [],
   "source": [
    "train_data = pd.read_csv('data/train.csv')"
   ]
  },
  {
   "cell_type": "code",
   "execution_count": null,
   "id": "406c4923",
   "metadata": {},
   "outputs": [],
   "source": [
    "train_data['sentiment'] = train_data['event_type'].map(sentiment_mapping)"
   ]
  },
  {
   "cell_type": "code",
   "execution_count": null,
   "id": "db9b88ec",
   "metadata": {},
   "outputs": [],
   "source": [
    "selected_columns = ['id', 'context', 'annotations/0/events/0/event_type', \n",
    "                    'annotations/0/events/0/Trigger/text/0/0', \n",
    "                    'annotations/0/events/0/Treatment/Drug/text/0/0','annotations/0/events/0/Effect/text/0/0']\n",
    "new_names = ['id', 'context', 'event_type', 'trigger_text', 'drug', 'drug_effect']\n",
    "df = train_data[selected_columns].rename(columns=dict(zip(selected_columns, new_names)))"
   ]
  },
  {
   "cell_type": "code",
   "execution_count": null,
   "id": "d3e77a66",
   "metadata": {},
   "outputs": [],
   "source": [
    "sentiment_mapping = {'Adverse_event': 1, 'Potential_therapeutic_event': 0}\n",
    "train_data['sentiment'] = train_data['event_type'].map(sentiment_mapping)"
   ]
  },
  {
   "cell_type": "code",
   "execution_count": null,
   "id": "e55db0f1",
   "metadata": {},
   "outputs": [],
   "source": [
    "X_train = train_data.drop('sentiment', axis=1)\n",
    "y_train = train_data['sentiment']"
   ]
  },
  {
   "cell_type": "markdown",
   "id": "8bd7a7d8",
   "metadata": {},
   "source": [
    "## tf–idf (Term Frequency–Inverse Document Frequency)"
   ]
  },
  {
   "cell_type": "code",
   "execution_count": null,
   "id": "1c741f60",
   "metadata": {},
   "outputs": [],
   "source": [
    "# Define the parameter grid for GridSearchCV\n",
    "param_grid = {\n",
    "    'max_df': [0.9, 0.95, 0.99],\n",
    "    'min_df': [50, 100, 150],\n",
    "    'stop_words': [None, 'english']\n",
    "}"
   ]
  },
  {
   "cell_type": "code",
   "execution_count": null,
   "id": "5b7ac7e5",
   "metadata": {},
   "outputs": [],
   "source": [
    "tfidf_vectorizer = TfidfVectorizer()\n",
    "\n",
    "grid_search = GridSearchCV(tfidf_vectorizer, param_grid, cv=5)\n",
    "\n",
    "grid_search.fit(X_train['context_clean'], y_train)\n",
    "\n",
    "tfidf = grid_search.best_estimator_.fit_transform(X_train['context_clean'])\n",
    "tfidf = tfidf.toarray()\n",
    "\n",
    "X_train = sparse.csr_matrix(X_train)\n",
    "\n",
    "print(\"X_train shape:\", X_train.shape)"
   ]
  },
  {
   "cell_type": "markdown",
   "id": "7c4abbb6",
   "metadata": {},
   "source": [
    "## Term Frequency Matrix"
   ]
  },
  {
   "cell_type": "code",
   "execution_count": null,
   "id": "13ad161b",
   "metadata": {},
   "outputs": [],
   "source": [
    "df = pd.DataFrame.sparse.from_spmatrix(X_train)\n",
    "df.columns = tfidf_vectorizer.get_feature_names()\n",
    "df"
   ]
  },
  {
   "cell_type": "markdown",
   "id": "5381f93c",
   "metadata": {},
   "source": [
    "## Naive Bayes"
   ]
  },
  {
   "cell_type": "code",
   "execution_count": null,
   "id": "676ea2ae",
   "metadata": {},
   "outputs": [],
   "source": [
    "from sklearn.pipeline import Pipeline\n",
    "from sklearn.feature_extraction.text import TfidfVectorizer\n",
    "from sklearn.naive_bayes import MultinomialNB\n",
    "from sklearn.model_selection import GridSearchCV\n",
    "from sklearn.metrics import accuracy_score\n",
    "\n",
    "tfidf_pipe = Pipeline([\n",
    "    ('tfidf', TfidfVectorizer()),\n",
    "    ('bayes', MultinomialNB())\n",
    "])\n",
    "\n",
    "param_grid = {\n",
    "    'tfidf__max_df': [0.9, 0.95, 0.99],\n",
    "    'tfidf__min_df': [50, 100, 150],\n",
    "    'tfidf__stop_words': [None, 'english']\n",
    "}\n",
    "\n",
    "grid_search = GridSearchCV(tfidf_pipe, param_grid, cv=5)\n",
    "\n",
    "grid_search.fit(X_train, y_train)\n",
    "\n",
    "# Score the pipeline on the test data\n",
    "y_pred = grid_search.predict(X_test)\n",
    "tfidf_acc = accuracy_score(y_test, y_pred)\n",
    "\n",
    "print(\"TF-IDF Accuracy:\", tfidf_acc)"
   ]
  },
  {
   "cell_type": "markdown",
   "id": "fcd823ca",
   "metadata": {},
   "source": [
    "## LDA Model"
   ]
  },
  {
   "cell_type": "code",
   "execution_count": null,
   "id": "e4d6a610",
   "metadata": {},
   "outputs": [],
   "source": [
    "topics = 2\n",
    "lda_model = LatentDirichletAllocation(n_components=topics)"
   ]
  },
  {
   "cell_type": "code",
   "execution_count": null,
   "id": "64ae2e14",
   "metadata": {},
   "outputs": [],
   "source": [
    "lda_model.fit(X_train)"
   ]
  },
  {
   "cell_type": "markdown",
   "id": "d58ab0b6",
   "metadata": {},
   "source": [
    "## Topic Results"
   ]
  },
  {
   "cell_type": "code",
   "execution_count": null,
   "id": "29c31f9b",
   "metadata": {},
   "outputs": [],
   "source": [
    "tf_feature_names = tfidf_vectorizer.get_feature_names()\n",
    "\n",
    "def print_top_words(model, feature_names, n_top_words):\n",
    "    for topic_idx, topic in enumerate(model.components_):\n",
    "        message = \"Topic #%d: \" % topic_idx\n",
    "        message += \" \".join([feature_names[i]\n",
    "                             for i in topic.argsort()[:-n_top_words - 1:-1]])\n",
    "        print(message)\n",
    "    print()\n",
    "    \n",
    "print_top_words(lda_model, tf_feature_names, 10)"
   ]
  },
  {
   "cell_type": "markdown",
   "id": "c5cdc461",
   "metadata": {},
   "source": [
    "## Test"
   ]
  },
  {
   "cell_type": "code",
   "execution_count": null,
   "id": "161b7ed7",
   "metadata": {},
   "outputs": [],
   "source": [
    "test_sample = 1"
   ]
  },
  {
   "cell_type": "code",
   "execution_count": null,
   "id": "ba5cccd9",
   "metadata": {},
   "outputs": [],
   "source": [
    "p = lda_model.transform(X_test[test_sample])\n",
    "print(p)"
   ]
  },
  {
   "cell_type": "code",
   "execution_count": null,
   "id": "f82b5447",
   "metadata": {},
   "outputs": [],
   "source": [
    "t = p.argmax()\n",
    "print(\"Topic #{}\".format(t))"
   ]
  },
  {
   "cell_type": "code",
   "execution_count": null,
   "id": "ca22c334",
   "metadata": {},
   "outputs": [],
   "source": [
    "print(X_test_document[test_sample])"
   ]
  },
  {
   "cell_type": "code",
   "execution_count": null,
   "id": "52453c73",
   "metadata": {},
   "outputs": [],
   "source": []
  },
  {
   "cell_type": "markdown",
   "id": "ee9fff62",
   "metadata": {},
   "source": [
    "## Ensemble"
   ]
  },
  {
   "cell_type": "code",
   "execution_count": null,
   "id": "ab47ba53",
   "metadata": {},
   "outputs": [],
   "source": [
    "from sklearn.pipeline import Pipeline\n",
    "from sklearn.feature_extraction.text import TfidfVectorizer\n",
    "from sklearn.naive_bayes import MultinomialNB\n",
    "from sklearn.decomposition import LatentDirichletAllocation\n",
    "from sklearn.ensemble import VotingClassifier\n",
    "from sklearn.model_selection import GridSearchCV\n",
    "\n",
    "# Create individual models\n",
    "nb_model = MultinomialNB()\n",
    "lda_model = LatentDirichletAllocation()\n",
    "\n",
    "# Create a pipeline for TF-IDF vectorization\n",
    "tfidf_pipe = Pipeline([\n",
    "    ('tfidf', TfidfVectorizer()),\n",
    "])\n",
    "\n",
    "# Define the parameter grid for GridSearchCV\n",
    "param_grid = {\n",
    "    'tfidf__max_df': [0.9, 0.95, 0.99],\n",
    "    'tfidf__min_df': [50, 100, 150],\n",
    "    'tfidf__stop_words': [None, 'english']\n",
    "}\n",
    "\n",
    "# Create the GridSearchCV instance for TF-IDF vectorization\n",
    "grid_search_tfidf = GridSearchCV(tfidf_pipe, param_grid, cv=5)\n",
    "\n",
    "# Fit the GridSearchCV on the training data\n",
    "grid_search_tfidf.fit(X_train, y_train)\n",
    "\n",
    "# Get the best TF-IDF transformer from GridSearchCV\n",
    "best_tfidf_transformer = grid_search_tfidf.best_estimator_['tfidf']\n",
    "\n",
    "# Create the ensemble using a VotingClassifier\n",
    "ensemble = VotingClassifier(\n",
    "    estimators=[\n",
    "        ('nb', nb_model),\n",
    "        ('lda', lda_model)\n",
    "    ]\n",
    ")\n",
    "\n",
    "# Create a pipeline for the ensemble\n",
    "ensemble_pipe = Pipeline([\n",
    "    ('tfidf', best_tfidf_transformer),\n",
    "    ('ensemble', ensemble)\n",
    "])\n",
    "\n",
    "# Define the parameter grid for GridSearchCV\n",
    "ensemble_param_grid = {\n",
    "    'ensemble__weights': [(1, 1), (2, 1), (1, 2)],  # Adjust the weights for the models\n",
    "    'ensemble__voting': ['hard', 'soft']  # Choose between hard or soft voting\n",
    "}\n",
    "\n",
    "# Create the GridSearchCV instance for the ensemble\n",
    "grid_search_ensemble = GridSearchCV(ensemble_pipe, ensemble_param_grid, cv=5)\n",
    "\n",
    "# Fit the GridSearchCV on the training data\n",
    "grid_search_ensemble.fit(X_train, y_train)"
   ]
  },
  {
   "cell_type": "markdown",
   "id": "944be85a",
   "metadata": {},
   "source": [
    "## Test Ensemble Prediction"
   ]
  },
  {
   "cell_type": "code",
   "execution_count": null,
   "id": "b96f2ac4",
   "metadata": {},
   "outputs": [],
   "source": [
    "# Get a specific test sample\n",
    "test_sample = 1\n",
    "\n",
    "# Transform the test sample using LDA model\n",
    "p = lda_model.transform(X_test[test_sample])\n",
    "t = p.argmax()\n",
    "\n",
    "# Print the topic probabilities and the dominant topic\n",
    "print(\"Topic Probabilities:\", p)\n",
    "print(\"Dominant Topic: #{}\".format(t))\n",
    "\n",
    "# Print the corresponding test document\n",
    "print(\"Test Document:\", X_test_document[test_sample])\n",
    "\n",
    "# Make predictions on the test data using the fitted ensemble model\n",
    "y_pred = grid_search_ensemble.predict(X_test)\n",
    "\n",
    "# Print the predictions\n",
    "print(\"Predictions:\", y_pred)\n"
   ]
  }
 ],
 "metadata": {
  "kernelspec": {
   "display_name": "Python 3",
   "language": "python",
   "name": "python3"
  },
  "language_info": {
   "codemirror_mode": {
    "name": "ipython",
    "version": 3
   },
   "file_extension": ".py",
   "mimetype": "text/x-python",
   "name": "python",
   "nbconvert_exporter": "python",
   "pygments_lexer": "ipython3",
   "version": "3.9.13"
  }
 },
 "nbformat": 4,
 "nbformat_minor": 5
}

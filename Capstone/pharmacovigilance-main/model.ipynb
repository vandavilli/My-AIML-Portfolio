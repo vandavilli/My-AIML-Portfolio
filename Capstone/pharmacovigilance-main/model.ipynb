{
 "cells": [
  {
   "cell_type": "markdown",
   "id": "c5cdc461",
   "metadata": {},
   "source": [
    "## Test"
   ]
  },
  {
   "cell_type": "code",
   "execution_count": null,
   "id": "161b7ed7",
   "metadata": {},
   "outputs": [],
   "source": [
    "test_sample = 1"
   ]
  },
  {
   "cell_type": "code",
   "execution_count": null,
   "id": "ba5cccd9",
   "metadata": {},
   "outputs": [],
   "source": [
    "p = lda_model.transform(X_test[test_sample])\n",
    "print(p)"
   ]
  },
  {
   "cell_type": "code",
   "execution_count": null,
   "id": "f82b5447",
   "metadata": {},
   "outputs": [],
   "source": [
    "t = p.argmax()\n",
    "print(\"Topic #{}\".format(t))"
   ]
  },
  {
   "cell_type": "code",
   "execution_count": null,
   "id": "ca22c334",
   "metadata": {},
   "outputs": [],
   "source": [
    "print(X_test_document[test_sample])"
   ]
  },
  {
   "cell_type": "markdown",
   "id": "944be85a",
   "metadata": {},
   "source": [
    "## Test Ensemble Prediction"
   ]
  },
  {
   "cell_type": "code",
   "execution_count": null,
   "id": "b96f2ac4",
   "metadata": {},
   "outputs": [],
   "source": [
    "# Get a specific test sample\n",
    "test_sample = 1\n",
    "\n",
    "# Transform the test sample using LDA model\n",
    "p = lda_model.transform(X_test[test_sample])\n",
    "t = p.argmax()\n",
    "\n",
    "# Print the topic probabilities and the dominant topic\n",
    "print(\"Topic Probabilities:\", p)\n",
    "print(\"Dominant Topic: #{}\".format(t))\n",
    "\n",
    "# Print the corresponding test document\n",
    "print(\"Test Document:\", X_test_document[test_sample])\n",
    "\n",
    "# Make predictions on the test data using the fitted ensemble model\n",
    "y_pred = grid_search_ensemble.predict(X_test)\n",
    "\n",
    "# Print the predictions\n",
    "print(\"Predictions:\", y_pred)\n"
   ]
  }
 ],
 "metadata": {
  "kernelspec": {
   "display_name": "Python 3",
   "language": "python",
   "name": "python3"
  },
  "language_info": {
   "codemirror_mode": {
    "name": "ipython",
    "version": 3
   },
   "file_extension": ".py",
   "mimetype": "text/x-python",
   "name": "python",
   "nbconvert_exporter": "python",
   "pygments_lexer": "ipython3",
   "version": "3.9.13"
  }
 },
 "nbformat": 4,
 "nbformat_minor": 5
}

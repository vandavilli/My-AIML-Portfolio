{
 "cells": [
  {
   "cell_type": "code",
   "execution_count": 1,
   "id": "312be638",
   "metadata": {},
   "outputs": [],
   "source": [
    "from sklearn.feature_extraction.text import TfidfVectorizer\n",
    "from sklearn.decomposition import LatentDirichletAllocation\n",
    "from scipy import sparse\n",
    "from sklearn.model_selection import GridSearchCV\n",
    "\n",
    "import numpy as np\n",
    "import pandas as pd\n",
    "import random"
   ]
  },
  {
   "cell_type": "code",
   "execution_count": null,
   "id": "62058d06",
   "metadata": {},
   "outputs": [],
   "source": [
    "train_data = pd.read_csv('data/train.csv')"
   ]
  },
  {
   "cell_type": "code",
   "execution_count": null,
   "id": "137477f4",
   "metadata": {},
   "outputs": [],
   "source": [
    "train_data['sentiment'] = train_data['event_type'].map(sentiment_mapping)"
   ]
  },
  {
   "cell_type": "code",
   "execution_count": null,
   "id": "1df002ae",
   "metadata": {},
   "outputs": [],
   "source": [
    "selected_columns = ['id', 'context', 'annotations/0/events/0/event_type', \n",
    "                    'annotations/0/events/0/Trigger/text/0/0', \n",
    "                    'annotations/0/events/0/Treatment/Drug/text/0/0','annotations/0/events/0/Effect/text/0/0']\n",
    "new_names = ['id', 'context', 'event_type', 'trigger_text', 'drug', 'drug_effect']\n",
    "df = train_data[selected_columns].rename(columns=dict(zip(selected_columns, new_names)))"
   ]
  },
  {
   "cell_type": "code",
   "execution_count": null,
   "id": "1b7c6156",
   "metadata": {},
   "outputs": [],
   "source": [
    "sentiment_mapping = {'Adverse_event': 1, 'Potential_therapeutic_event': 0}\n",
    "train_data['sentiment'] = train_data['event_type'].map(sentiment_mapping)"
   ]
  },
  {
   "cell_type": "code",
   "execution_count": null,
   "id": "0b01f271",
   "metadata": {},
   "outputs": [],
   "source": [
    "X_train = train_data.drop('sentiment', axis=1)\n",
    "y_train = train_data['sentiment']"
   ]
  },
  {
   "cell_type": "markdown",
   "id": "cb96f087",
   "metadata": {},
   "source": [
    "## tf–idf (Term Frequency–Inverse Document Frequency)"
   ]
  },
  {
   "cell_type": "code",
   "execution_count": null,
   "id": "5706ddaa",
   "metadata": {},
   "outputs": [],
   "source": [
    "# Define the parameter grid for GridSearchCV\n",
    "param_grid = {\n",
    "    'max_df': [0.9, 0.95, 0.99],\n",
    "    'min_df': [50, 100, 150],\n",
    "    'stop_words': [None, 'english']\n",
    "}"
   ]
  },
  {
   "cell_type": "code",
   "execution_count": null,
   "id": "52e4c8a6",
   "metadata": {},
   "outputs": [],
   "source": [
    "tfidf_vectorizer = TfidfVectorizer()\n",
    "\n",
    "grid_search = GridSearchCV(tfidf_vectorizer, param_grid, cv=5)\n",
    "\n",
    "grid_search.fit(X_train['context_clean'], y_train)\n",
    "\n",
    "tfidf = grid_search.best_estimator_.fit_transform(X_train['context_clean'])\n",
    "tfidf = tfidf.toarray()\n",
    "\n",
    "X_train = sparse.csr_matrix(X_train)\n",
    "\n",
    "print(\"X_train shape:\", X_train.shape)"
   ]
  },
  {
   "cell_type": "markdown",
   "id": "fa3e10fd",
   "metadata": {},
   "source": [
    "## Term Frequency Matrix"
   ]
  },
  {
   "cell_type": "code",
   "execution_count": null,
   "id": "d4ff6578",
   "metadata": {},
   "outputs": [],
   "source": [
    "df = pd.DataFrame.sparse.from_spmatrix(X_train)\n",
    "df.columns = tfidf_vectorizer.get_feature_names()\n",
    "df"
   ]
  },
  {
   "cell_type": "markdown",
   "id": "83e3293a",
   "metadata": {},
   "source": [
    "## Model"
   ]
  },
  {
   "cell_type": "code",
   "execution_count": null,
   "id": "c0f3a37e",
   "metadata": {},
   "outputs": [],
   "source": [
    "topics = 2\n",
    "lda_model = LatentDirichletAllocation(n_components=topics)"
   ]
  },
  {
   "cell_type": "code",
   "execution_count": null,
   "id": "521d5802",
   "metadata": {},
   "outputs": [],
   "source": [
    "lda_model.fit(X_train)"
   ]
  },
  {
   "cell_type": "markdown",
   "id": "38b8fb6e",
   "metadata": {},
   "source": [
    "## Topic Results"
   ]
  },
  {
   "cell_type": "code",
   "execution_count": null,
   "id": "cdbcdba4",
   "metadata": {},
   "outputs": [],
   "source": [
    "tf_feature_names = tfidf_vectorizer.get_feature_names()\n",
    "\n",
    "def print_top_words(model, feature_names, n_top_words):\n",
    "    for topic_idx, topic in enumerate(model.components_):\n",
    "        message = \"Topic #%d: \" % topic_idx\n",
    "        message += \" \".join([feature_names[i]\n",
    "                             for i in topic.argsort()[:-n_top_words - 1:-1]])\n",
    "        print(message)\n",
    "    print()\n",
    "    \n",
    "print_top_words(lda_model, tf_feature_names, 10)"
   ]
  },
  {
   "cell_type": "markdown",
   "id": "b4ff0387",
   "metadata": {},
   "source": [
    "## Test"
   ]
  },
  {
   "cell_type": "code",
   "execution_count": null,
   "id": "4d566e13",
   "metadata": {},
   "outputs": [],
   "source": [
    "test_sample = 1"
   ]
  },
  {
   "cell_type": "code",
   "execution_count": null,
   "id": "aaad5422",
   "metadata": {},
   "outputs": [],
   "source": [
    "p = lda_model.transform(X_test[test_sample])\n",
    "print(p)"
   ]
  },
  {
   "cell_type": "code",
   "execution_count": null,
   "id": "313ba7c3",
   "metadata": {},
   "outputs": [],
   "source": [
    "t = p.argmax()\n",
    "print(\"Topic #{}\".format(t))"
   ]
  },
  {
   "cell_type": "code",
   "execution_count": null,
   "id": "198f598e",
   "metadata": {},
   "outputs": [],
   "source": [
    "print(X_test_document[test_sample])"
   ]
  }
 ],
 "metadata": {
  "kernelspec": {
   "display_name": "Python 3",
   "language": "python",
   "name": "python3"
  },
  "language_info": {
   "codemirror_mode": {
    "name": "ipython",
    "version": 3
   },
   "file_extension": ".py",
   "mimetype": "text/x-python",
   "name": "python",
   "nbconvert_exporter": "python",
   "pygments_lexer": "ipython3",
   "version": "3.9.13"
  }
 },
 "nbformat": 4,
 "nbformat_minor": 5
}

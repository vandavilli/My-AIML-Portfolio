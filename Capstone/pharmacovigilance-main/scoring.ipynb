{
 "cells": [
  {
   "cell_type": "code",
   "execution_count": 1,
   "id": "43bf26f9",
   "metadata": {},
   "outputs": [],
   "source": [
    "from gensim.models import LdaModel\n",
    "from gensim.models.coherencemodel import CoherenceModel"
   ]
  },
  {
   "cell_type": "code",
   "execution_count": null,
   "id": "49f36ec3",
   "metadata": {},
   "outputs": [],
   "source": [
    "corpus = ...  # Your corpus in the required format\n",
    "dictionary = ...  # Your dictionary\n",
    "\n",
    "lda_model = LdaModel(corpus=corpus, id2word=dictionary, num_topics=2)\n",
    "\n",
    "# Calculate perplexity\n",
    "perplexity = lda_model.log_perplexity(corpus)\n",
    "print(\"Perplexity:\", perplexity)\n",
    "\n",
    "# Calculate coherence score\n",
    "coherence_model = CoherenceModel(model=lda_model, corpus=corpus, dictionary=dictionary, coherence='c_v')\n",
    "coherence_score = coherence_model.get_coherence()\n",
    "print(\"Coherence Score:\", coherence_score)"
   ]
  }
 ],
 "metadata": {
  "kernelspec": {
   "display_name": "Python 3",
   "language": "python",
   "name": "python3"
  },
  "language_info": {
   "codemirror_mode": {
    "name": "ipython",
    "version": 3
   },
   "file_extension": ".py",
   "mimetype": "text/x-python",
   "name": "python",
   "nbconvert_exporter": "python",
   "pygments_lexer": "ipython3",
   "version": "3.9.13"
  }
 },
 "nbformat": 4,
 "nbformat_minor": 5
}
